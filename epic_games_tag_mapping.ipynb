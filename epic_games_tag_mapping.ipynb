{
  "nbformat": 4,
  "nbformat_minor": 0,
  "metadata": {
    "colab": {
      "provenance": [],
      "private_outputs": true
    },
    "kernelspec": {
      "name": "python3",
      "display_name": "Python 3"
    },
    "language_info": {
      "name": "python"
    }
  },
  "cells": [
    {
      "cell_type": "markdown",
      "source": [
        "# Epic Games Tag Mapping"
      ],
      "metadata": {
        "id": "pEEsjGC0VZev"
      }
    },
    {
      "cell_type": "markdown",
      "source": [
        "## Installation\n",
        "\n",
        "https://github.com/woctezuma/epic-games-tag-mapping"
      ],
      "metadata": {
        "id": "lW4CC2RBuvUX"
      }
    },
    {
      "cell_type": "code",
      "execution_count": null,
      "metadata": {
        "id": "LTE1WVV1VWib"
      },
      "outputs": [],
      "source": [
        "%cd /content\n",
        "%rm -rf epic-games-tag-mapping\n",
        "!git clone https://github.com/woctezuma/epic-games-tag-mapping --branch data --single-branch\n",
        "%cd epic-games-tag-mapping\n",
        "%pip install -qq -r requirements.txt"
      ]
    },
    {
      "cell_type": "markdown",
      "source": [
        "## Prepare incidence and adjacency matrices"
      ],
      "metadata": {
        "id": "nNk8f2TnuxLn"
      }
    },
    {
      "cell_type": "markdown",
      "source": [
        "The following code is taken from `map_tags.py` and creates temporary files with:\n",
        "- the sorted tag names,\n",
        "- the incidence matrix.\n",
        "\n",
        "We run the code directly in the notebook in order to have access to the variables."
      ],
      "metadata": {
        "id": "qHDVuIL2kMIJ"
      }
    },
    {
      "cell_type": "code",
      "source": [
        "from src.data_utils import POLL_DICTIONARY_FNAME, POLL_SUMMARY_FNAME\n",
        "from src.json_utils import load_json\n",
        "from src.tag_utils import sort_tags\n",
        "\n",
        "games = load_json(POLL_SUMMARY_FNAME)\n",
        "tag_dictionary = load_json(POLL_DICTIONARY_FNAME)\n",
        "\n",
        "tags, tag_names = sort_tags(tag_dictionary)"
      ],
      "metadata": {
        "id": "8rke5x2ii5Ea"
      },
      "execution_count": null,
      "outputs": []
    },
    {
      "cell_type": "code",
      "source": [
        "from src.matrix_utils import get_adjacency_matrix, get_tag_joint_game_matrix\n",
        "\n",
        "# https://en.wikipedia.org/wiki/Incidence_matrix\n",
        "incidence_matrix = get_tag_joint_game_matrix(games, tags)\n",
        "\n",
        "# https://en.wikipedia.org/wiki/Adjacency_matrix\n",
        "adjacency_matrix = get_adjacency_matrix(incidence_matrix)"
      ],
      "metadata": {
        "id": "ynQsmD5PjQgr"
      },
      "execution_count": null,
      "outputs": []
    },
    {
      "cell_type": "markdown",
      "source": [
        "## UMAP\n",
        "\n",
        "https://github.com/lmcinnes/umap"
      ],
      "metadata": {
        "id": "tWb_CkzhvCq9"
      }
    },
    {
      "cell_type": "code",
      "source": [
        "%pip install -qq umap-learn"
      ],
      "metadata": {
        "id": "RHLRwetQvHl4"
      },
      "execution_count": null,
      "outputs": []
    },
    {
      "cell_type": "code",
      "source": [
        "import umap\n",
        "\n",
        "from src.plot_utils import plot_umap\n",
        "\n",
        "reducer = umap.UMAP(metric='cosine', random_state=0)"
      ],
      "metadata": {
        "id": "uboSgPOkj5t3"
      },
      "execution_count": null,
      "outputs": []
    },
    {
      "cell_type": "markdown",
      "source": [
        "### Incidence matrix"
      ],
      "metadata": {
        "id": "5nNppXx4jf-a"
      }
    },
    {
      "cell_type": "code",
      "source": [
        "embedding = reducer.fit_transform(incidence_matrix)\n",
        "plot_umap(embedding, tag_names)"
      ],
      "metadata": {
        "id": "03aORCwTXGkQ"
      },
      "execution_count": null,
      "outputs": []
    },
    {
      "cell_type": "markdown",
      "source": [
        "### Adjacency matrix"
      ],
      "metadata": {
        "id": "FHwdSfZ2jiUw"
      }
    },
    {
      "cell_type": "code",
      "source": [
        "embedding = reducer.fit_transform(adjacency_matrix)\n",
        "plot_umap(embedding, tag_names)"
      ],
      "metadata": {
        "id": "VDSZN9ukXmc-"
      },
      "execution_count": null,
      "outputs": []
    }
  ]
}