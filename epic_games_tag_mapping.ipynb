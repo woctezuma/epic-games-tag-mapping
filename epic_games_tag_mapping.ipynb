{
  "nbformat": 4,
  "nbformat_minor": 0,
  "metadata": {
    "colab": {
      "provenance": [],
      "private_outputs": true
    },
    "kernelspec": {
      "name": "python3",
      "display_name": "Python 3"
    },
    "language_info": {
      "name": "python"
    }
  },
  "cells": [
    {
      "cell_type": "markdown",
      "source": [
        "# Epic Games Tag Mapping"
      ],
      "metadata": {
        "id": "pEEsjGC0VZev"
      }
    },
    {
      "cell_type": "markdown",
      "source": [
        "## Installation\n",
        "\n",
        "https://github.com/woctezuma/epic-games-tag-mapping"
      ],
      "metadata": {
        "id": "lW4CC2RBuvUX"
      }
    },
    {
      "cell_type": "code",
      "execution_count": null,
      "metadata": {
        "id": "LTE1WVV1VWib"
      },
      "outputs": [],
      "source": [
        "%cd /content\n",
        "%rm -rf epic-games-tag-mapping\n",
        "!git clone https://github.com/woctezuma/epic-games-tag-mapping --branch data --single-branch\n",
        "%cd epic-games-tag-mapping\n",
        "%pip install -qq -r requirements.txt"
      ]
    },
    {
      "cell_type": "markdown",
      "source": [
        "## Prepare temporary files\n",
        "\n",
        "- adjacency matrix\n",
        "- tag names\n"
      ],
      "metadata": {
        "id": "nNk8f2TnuxLn"
      }
    },
    {
      "cell_type": "code",
      "source": [
        "!python map_tags.py"
      ],
      "metadata": {
        "id": "guredL0fV8MJ"
      },
      "execution_count": null,
      "outputs": []
    },
    {
      "cell_type": "markdown",
      "source": [
        "## UMAP\n",
        "\n",
        "https://github.com/lmcinnes/umap"
      ],
      "metadata": {
        "id": "tWb_CkzhvCq9"
      }
    },
    {
      "cell_type": "code",
      "source": [
        "%pip install -qq umap-learn"
      ],
      "metadata": {
        "id": "RHLRwetQvHl4"
      },
      "execution_count": null,
      "outputs": []
    },
    {
      "cell_type": "code",
      "source": [
        "import umap\n",
        "\n",
        "from src.matrix_utils import get_adjacency_matrix\n",
        "\n",
        "tags_adjacency_matrix = get_adjacency_matrix()\n",
        "\n",
        "reducer = umap.UMAP()\n",
        "embedding = reducer.fit_transform(tags_adjacency_matrix)\n",
        "embedding.shape"
      ],
      "metadata": {
        "id": "03aORCwTXGkQ"
      },
      "execution_count": null,
      "outputs": []
    },
    {
      "cell_type": "code",
      "source": [
        "from src.plot_utils import plot_umap\n",
        "from src.tag_utils import load_tag_names\n",
        "\n",
        "tag_names = load_tag_names()\n",
        "\n",
        "plot_umap(embedding, tag_names)"
      ],
      "metadata": {
        "id": "VDSZN9ukXmc-"
      },
      "execution_count": null,
      "outputs": []
    }
  ]
}